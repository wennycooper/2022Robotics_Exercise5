{
 "cells": [
  {
   "cell_type": "code",
   "execution_count": 1,
   "id": "monthly-metro",
   "metadata": {},
   "outputs": [
    {
     "name": "stderr",
     "output_type": "stream",
     "text": [
      "/opt/conda/lib/python3.8/site-packages/tqdm/auto.py:22: TqdmWarning: IProgress not found. Please update jupyter and ipywidgets. See https://ipywidgets.readthedocs.io/en/stable/user_install.html\n",
      "  from .autonotebook import tqdm as notebook_tqdm\n"
     ]
    }
   ],
   "source": [
    "import torch\n",
    "import torch.nn as nn"
   ]
  },
  {
   "cell_type": "code",
   "execution_count": 66,
   "id": "known-installation",
   "metadata": {},
   "outputs": [],
   "source": []
  },
  {
   "cell_type": "code",
   "execution_count": 132,
   "id": "dependent-lindsay",
   "metadata": {},
   "outputs": [],
   "source": [
    "# LSTM\n",
    "class LSTM(nn.Module):\n",
    "    def __init__(self, input_size, hidden_size, num_layers, bidirectional=False):\n",
    "        super(LSTM, self).__init__()\n",
    "        # 這樣他就接受input dim (batch_size, seq_len, input_dim)\n",
    "        # 注意這個model跟batch_size & seq_len無關, 所以可以接受不同大小batch_size & seq_len\n",
    "        self.lstm = nn.LSTM(\n",
    "            input_size=input_size,\n",
    "            hidden_size=hidden_size,\n",
    "            num_layers=num_layers,\n",
    "            batch_first=True,\n",
    "            #bidirectional=bidirectional,\n",
    "        )\n",
    "\n",
    "        self.fc = nn.Linear(hidden_size, 4)\n",
    "        #self.sigmoid = nn.Sigmoid()\n",
    "\n",
    "    def forward(self, inputs):\n",
    "        out, (h, c) = self.lstm(inputs, None)\n",
    "        print(\"[KK] inputs.shape: \", inputs.shape)\n",
    "        print(\"[KK] h[-1].shape: \", h[-1].shape)\n",
    "        print(\"[KK] h[-1].squeeze(0).shape: \", h[-1].squeeze(0).shape)\n",
    "        \n",
    "        fc_outputs = self.fc(h[-1].squeeze(0))\n",
    "        #print(\"[KK] outputs.shape: \", outputs.shape)\n",
    "\n",
    "        return fc_outputs"
   ]
  },
  {
   "cell_type": "code",
   "execution_count": 138,
   "id": "awful-details",
   "metadata": {},
   "outputs": [],
   "source": [
    "input_dim = 1\n",
    "hidden_dim = 64\n",
    "n_layers = 3\n",
    "model = LSTM(input_dim, hidden_dim, n_layers)"
   ]
  },
  {
   "cell_type": "code",
   "execution_count": 139,
   "id": "expensive-tuition",
   "metadata": {},
   "outputs": [
    {
     "data": {
      "text/plain": [
       "torch.Size([16, 10, 1])"
      ]
     },
     "execution_count": 139,
     "metadata": {},
     "output_type": "execute_result"
    }
   ],
   "source": [
    "batch_size = 16\n",
    "seq_len = 10\n",
    "\n",
    "inp = torch.randn(batch_size, seq_len, input_dim)  #產生一個batch 的 inputs\n",
    "inp.shape\n",
    "#h0 = torch.randn(n_layers, batch_size, hidden_dim)  #不要管h0, c0\n",
    "#c0 = torch.randn(n_layers, batch_size, hidden_dim)\n",
    "#hidden = (hidden_state, cell_state)"
   ]
  },
  {
   "cell_type": "code",
   "execution_count": 140,
   "id": "amateur-problem",
   "metadata": {},
   "outputs": [
    {
     "name": "stdout",
     "output_type": "stream",
     "text": [
      "[KK] inputs.shape:  torch.Size([16, 10, 1])\n",
      "[KK] h[-1].shape:  torch.Size([16, 64])\n",
      "[KK] h[-1].squeeze(0).shape:  torch.Size([16, 64])\n"
     ]
    }
   ],
   "source": [
    "outs = model(inp)"
   ]
  },
  {
   "cell_type": "code",
   "execution_count": 141,
   "id": "invisible-edinburgh",
   "metadata": {},
   "outputs": [
    {
     "data": {
      "text/plain": [
       "torch.Size([16, 4])"
      ]
     },
     "execution_count": 141,
     "metadata": {},
     "output_type": "execute_result"
    }
   ],
   "source": [
    "outs.shape"
   ]
  },
  {
   "cell_type": "code",
   "execution_count": 142,
   "id": "august-sugar",
   "metadata": {},
   "outputs": [
    {
     "data": {
      "text/plain": [
       "LSTM(\n",
       "  (lstm): LSTM(1, 64, num_layers=3, batch_first=True)\n",
       "  (fc): Linear(in_features=64, out_features=4, bias=True)\n",
       ")"
      ]
     },
     "execution_count": 142,
     "metadata": {},
     "output_type": "execute_result"
    }
   ],
   "source": [
    "model"
   ]
  },
  {
   "cell_type": "markdown",
   "id": "exclusive-jackson",
   "metadata": {},
   "source": [
    "############################"
   ]
  },
  {
   "cell_type": "code",
   "execution_count": 72,
   "id": "speaking-yorkshire",
   "metadata": {},
   "outputs": [],
   "source": [
    "input_dim = 1\n",
    "hidden_dim = 1\n",
    "n_layers = 1"
   ]
  },
  {
   "cell_type": "code",
   "execution_count": 73,
   "id": "coral-match",
   "metadata": {},
   "outputs": [],
   "source": [
    "lstm_layer = nn.LSTM(input_dim, hidden_dim, n_layers, batch_first=True)  \n",
    "# 這樣他就接受input dim (batch_size, seq_len, input_dim)\n",
    "# 注意這個model跟batch_size & seq_len無關, 所以可以接受不同大小batch_size & seq_len"
   ]
  },
  {
   "cell_type": "code",
   "execution_count": 74,
   "id": "forward-steal",
   "metadata": {},
   "outputs": [
    {
     "name": "stdout",
     "output_type": "stream",
     "text": [
      "torch.Size([1, 5, 1])\n",
      "torch.Size([1, 1, 1])\n"
     ]
    }
   ],
   "source": [
    "out, (h, c) = lstm_layer(inp)\n",
    "print(out.shape)\n",
    "print(h.shape)"
   ]
  },
  {
   "cell_type": "code",
   "execution_count": null,
   "id": "adaptive-token",
   "metadata": {},
   "outputs": [],
   "source": [
    "\n"
   ]
  },
  {
   "cell_type": "code",
   "execution_count": 61,
   "id": "downtown-voltage",
   "metadata": {},
   "outputs": [
    {
     "data": {
      "text/plain": [
       "torch.Size([5, 1])"
      ]
     },
     "execution_count": 61,
     "metadata": {},
     "output_type": "execute_result"
    }
   ],
   "source": [
    "out.shape"
   ]
  },
  {
   "cell_type": "code",
   "execution_count": 38,
   "id": "suitable-azerbaijan",
   "metadata": {},
   "outputs": [
    {
     "name": "stdout",
     "output_type": "stream",
     "text": [
      "torch.Size([1, 8, 1])\n",
      "torch.Size([8, 1])\n"
     ]
    }
   ],
   "source": [
    "print(h.shape)\n",
    "print(h.squeeze(0).shape)"
   ]
  },
  {
   "cell_type": "code",
   "execution_count": 32,
   "id": "experimental-incentive",
   "metadata": {},
   "outputs": [
    {
     "data": {
      "text/plain": [
       "torch.Size([1, 1, 1])"
      ]
     },
     "execution_count": 32,
     "metadata": {},
     "output_type": "execute_result"
    }
   ],
   "source": [
    "h.shape"
   ]
  },
  {
   "cell_type": "code",
   "execution_count": 27,
   "id": "demonstrated-draft",
   "metadata": {},
   "outputs": [
    {
     "data": {
      "text/plain": [
       "torch.Size([1, 1])"
      ]
     },
     "execution_count": 27,
     "metadata": {},
     "output_type": "execute_result"
    }
   ],
   "source": [
    "h[-1].shape"
   ]
  },
  {
   "cell_type": "code",
   "execution_count": 16,
   "id": "divine-crowd",
   "metadata": {},
   "outputs": [
    {
     "data": {
      "text/plain": [
       "torch.Size([5])"
      ]
     },
     "execution_count": 16,
     "metadata": {},
     "output_type": "execute_result"
    }
   ],
   "source": [
    "out1.shape"
   ]
  },
  {
   "cell_type": "code",
   "execution_count": 18,
   "id": "written-research",
   "metadata": {},
   "outputs": [
    {
     "data": {
      "text/plain": [
       "tensor(-0.1242, grad_fn=<SelectBackward>)"
      ]
     },
     "execution_count": 18,
     "metadata": {},
     "output_type": "execute_result"
    }
   ],
   "source": [
    "out1[-1]"
   ]
  },
  {
   "cell_type": "code",
   "execution_count": null,
   "id": "satisfied-cuisine",
   "metadata": {},
   "outputs": [],
   "source": []
  }
 ],
 "metadata": {
  "kernelspec": {
   "display_name": "Python 3",
   "language": "python",
   "name": "python3"
  },
  "language_info": {
   "codemirror_mode": {
    "name": "ipython",
    "version": 3
   },
   "file_extension": ".py",
   "mimetype": "text/x-python",
   "name": "python",
   "nbconvert_exporter": "python",
   "pygments_lexer": "ipython3",
   "version": "3.8.5"
  }
 },
 "nbformat": 4,
 "nbformat_minor": 5
}
